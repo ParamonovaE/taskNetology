{
 "cells": [
  {
   "cell_type": "markdown",
   "id": "b8dd3231",
   "metadata": {},
   "source": [
    "# Практическая работа № 1\n",
    "\n"
   ]
  },
  {
   "cell_type": "code",
   "execution_count": 3,
   "id": "a82f413a",
   "metadata": {},
   "outputs": [
    {
     "name": "stdout",
     "output_type": "stream",
     "text": [
      "{'Python': [10, 10, 10]}\n",
      "{'Python': [7, 8, 9]}\n"
     ]
    }
   ],
   "source": [
    "class Student:\n",
    "    def __init__(self, name, surname, gender):\n",
    "        self.name = name\n",
    "        self.surname = surname\n",
    "        self.gender = gender\n",
    "        self.finished_courses = []\n",
    "        self.courses_in_progress = []\n",
    "        self.grades = {}\n",
    "\n",
    "    def student_rate_hw(self, lecturer, lesson, l_grade):\n",
    "        if isinstance(lecturer, Lecturer) and lesson in self.courses_in_progress and lesson in lecturer.lecturer_courses_attached:\n",
    "            if lesson in lecturer.lecturer_grades:\n",
    "                lecturer.lecturer_grades[lesson] += [l_grade]\n",
    "            else:\n",
    "                lecturer.lecturer_grades[lesson] = [l_grade]\n",
    "        else:\n",
    "            return 'Ошибка'\n",
    "        \n",
    "class Mentor:\n",
    "    def __init__(self, name, surname):\n",
    "        self.name = name\n",
    "        self.surname = surname\n",
    "        \n",
    "class Lecturer(Mentor):\n",
    "    def __init__(self, name, surname):\n",
    "        super().__init__(name, surname)\n",
    "        self.lecturer_courses_attached = []\n",
    "        self.lecturer_grades = {}\n",
    "\n",
    "class Reviewer(Mentor):\n",
    "    def __init__(self, name, surname):\n",
    "        super().__init__(name, surname)\n",
    "        self.courses_attached = []\n",
    "\n",
    "    def rate_hw(self, student, course, grade):\n",
    "        if isinstance(student, Student) and course in self.courses_attached and course in student.courses_in_progress:\n",
    "            if course in student.grades:\n",
    "                student.grades[course] += [grade]\n",
    "            else:\n",
    "                student.grades[course] = [grade]\n",
    "        else:\n",
    "            return 'Ошибка'\n",
    "\n",
    "best_student = Student('Ruoy', 'Eman', 'male')\n",
    "best_student.courses_in_progress += ['Python']\n",
    " \n",
    "cool_reviewer = Reviewer('Some', 'Buddy')\n",
    "cool_reviewer.courses_attached += ['Python']\n",
    "\n",
    "cool_lecturer = Lecturer('Bob', 'Kolock')\n",
    "cool_lecturer.lecturer_courses_attached += ['Python']\n",
    " \n",
    "cool_reviewer.rate_hw(best_student, 'Python', 10)\n",
    "cool_reviewer.rate_hw(best_student, 'Python', 10)\n",
    "cool_reviewer.rate_hw(best_student, 'Python', 10)\n",
    "\n",
    "best_student.student_rate_hw(cool_lecturer, 'Python', 7)\n",
    "best_student.student_rate_hw(cool_lecturer, 'Python', 8)\n",
    "best_student.student_rate_hw(cool_lecturer, 'Python', 9)\n",
    " \n",
    "print(best_student.grades)\n",
    "print(cool_lecturer.lecturer_grades)"
   ]
  }
 ],
 "metadata": {
  "kernelspec": {
   "display_name": "Python 3 (ipykernel)",
   "language": "python",
   "name": "python3"
  },
  "language_info": {
   "codemirror_mode": {
    "name": "ipython",
    "version": 3
   },
   "file_extension": ".py",
   "mimetype": "text/x-python",
   "name": "python",
   "nbconvert_exporter": "python",
   "pygments_lexer": "ipython3",
   "version": "3.11.3"
  }
 },
 "nbformat": 4,
 "nbformat_minor": 5
}
